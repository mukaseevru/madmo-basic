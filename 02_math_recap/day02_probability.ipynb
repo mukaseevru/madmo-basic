{
 "cells": [
  {
   "cell_type": "markdown",
   "id": "subsequent-preference",
   "metadata": {},
   "source": [
    "## Day 2\n",
    "## Intro to Probability and Statistics"
   ]
  },
  {
   "cell_type": "markdown",
   "id": "chubby-monster",
   "metadata": {},
   "source": [
    "#### Probability: Expectation, Standard Deviation"
   ]
  },
  {
   "cell_type": "markdown",
   "id": "likely-makeup",
   "metadata": {},
   "source": [
    "#### Expected Value\n",
    "\n",
    "$(\\Omega, \\mathcal{F}, P)$ - [probability space](https://en.wikipedia.org/wiki/Probability_space)\n",
    "\n",
    "Let $\\xi$ - some [random variable](https://en.wikipedia.org/wiki/Random_variable): $\\xi: \\Omega \\rightarrow X$ (Usually $X \\subseteq \\mathbf{R}$). \n",
    "\n",
    "Let $X = \\{x_1,\\dots x_k\\}$\n",
    "and $A_i = \\{w\\in\\Omega: \\xi(w) = x_i \\}$\n",
    "\n",
    "Then, you can represent $\\xi$ as follows:\n",
    "\n",
    "$\\xi(w) = \\sum_{i=1}^k{x_i * I(A_i)}$\n",
    "\n",
    "where $I$ - [indicator function](https://en.wikipedia.org/wiki/Indicator_function):\n",
    "\n",
    "$I(A_i) = \n",
    "\\left\\{\n",
    "\\begin{array}{ll}\n",
    "1,\\ w \\in A_i \\\\ \n",
    "0,\\ w \\notin A_i \\\\\n",
    "\\end{array}\n",
    "\\right.$\n",
    "\n",
    "Then [Expected Value](https://en.wikipedia.org/wiki/Expected_value) $E$ is:\n",
    "\n",
    "$E(\\xi) = \\sum_{i=1}^k{x_i * P_\\xi(A_i)}$\n",
    "\n",
    "where $P_\\xi$ is [probability distribution](https://en.wikipedia.org/wiki/Probability_distribution)"
   ]
  },
  {
   "cell_type": "markdown",
   "id": "bright-slope",
   "metadata": {},
   "source": [
    "#### Expected value: Properties\n",
    "\n",
    "1. If $\\xi \\geq 0 \\Rightarrow E(\\xi) \\geq$\n",
    "2. $E(a\\xi + b\\eta) = aE(\\xi) + bE(\\eta)$\n",
    "3. If $\\xi \\geq \\eta \\Rightarrow E(\\xi) \\geq E(\\eta)$\n",
    "4. $|E(\\xi)| \\leq E(|\\xi|)$\n",
    "5. $\\xi \\bot \\eta \\Rightarrow E(\\xi\\eta) = E(\\xi)E(\\eta)$\n",
    "6. $(E|\\xi\\eta|)^2 \\leq E(\\xi^2)E(\\eta^2)$ - [Cauchy–Schwarz inequality](https://en.wikipedia.org/wiki/Cauchy–Schwarz_inequality)\n",
    "7. $\\xi = I(A) \\Rightarrow E(\\xi) = P(A)$"
   ]
  },
  {
   "cell_type": "markdown",
   "id": "checked-detector",
   "metadata": {},
   "source": [
    "#### Variance\n",
    "\n",
    "[Variance](https://en.wikipedia.org/wiki/Variance) of random variable $\\xi$ is the expectation of the squared deviation of $\\xi$:\n",
    "\n",
    "$D(\\xi) = E(\\xi - E(\\xi))^2$\n",
    "\n",
    "[Standard deviation](https://en.wikipedia.org/wiki/Standard_deviation): $\\sigma = +\\sqrt{D}$"
   ]
  },
  {
   "cell_type": "markdown",
   "id": "planned-cradle",
   "metadata": {},
   "source": [
    "#### Variance: Properties\n",
    "\n",
    "1. $D(\\xi) = E(\\xi - E(\\xi))^2 = E(\\xi^2 - 2\\xi E(\\xi) + (E(\\xi))^2) = E(\\xi^2) - 2(E(\\xi))^2 + (E(\\xi))^2 = E(\\xi^2) - (E(\\xi))^2$\n",
    "2. $D(a) = 0$\n",
    "3. $D(\\xi) = 0 \\leftrightarrow\\exists a: P(\\xi = a) = 1$ \n",
    "4. $D(a\\xi) = a^2D(\\xi)$\n",
    "5. $D(\\xi + b) = D(\\xi)$\n",
    "6. $\\xi\\bot\\eta\\Rightarrow D(\\xi+\\eta)=D(\\xi)+D(\\eta)$\n",
    "\n",
    "*Question:* $D(\\xi + \\eta) = ?$"
   ]
  },
  {
   "cell_type": "markdown",
   "id": "following-detroit",
   "metadata": {},
   "source": [
    "---"
   ]
  },
  {
   "cell_type": "markdown",
   "id": "gorgeous-production",
   "metadata": {},
   "source": [
    "Okay, let see some examples and try to empirically confirm some properties"
   ]
  },
  {
   "cell_type": "code",
   "execution_count": null,
   "id": "limited-state",
   "metadata": {},
   "outputs": [],
   "source": [
    "import numpy as np\n",
    "import scipy.stats as sps"
   ]
  },
  {
   "cell_type": "markdown",
   "id": "soviet-hindu",
   "metadata": {},
   "source": [
    "##### Example: [Bernoulli distribution](https://en.wikipedia.org/wiki/Bernoulli_distribution)\n"
   ]
  },
  {
   "cell_type": "markdown",
   "id": "turkish-utilization",
   "metadata": {},
   "source": [
    "$E(X) = \\sum_i{x_i * p(X = x_i)}$\n",
    "\n",
    "$X = \n",
    "\\left\\{\n",
    "\\begin{array}{ll}\n",
    "1,\\ p \\\\ \n",
    "0,\\ 1 - p \\\\\n",
    "\\end{array}\n",
    "\\right.$\n",
    "\n",
    "$E(X) = 1 * P(X = 1) + 0 * P(X = 0) = P(X = 1)$\n",
    "\n",
    "---\n",
    "\n",
    "$$D(X) = E(X^2) - (E(X))^2 = P(X=1) - P(X=1)^2 = P(X=1)*(1 - P(X=1)) = P(X=1)P(X=0)$$"
   ]
  },
  {
   "cell_type": "code",
   "execution_count": null,
   "id": "enabling-coverage",
   "metadata": {},
   "outputs": [],
   "source": [
    "p = 0.5\n",
    "size = 100000\n",
    "\n",
    "x = sps.bernoulli.rvs(p, size=size)"
   ]
  },
  {
   "cell_type": "code",
   "execution_count": null,
   "id": "cleared-fellow",
   "metadata": {},
   "outputs": [],
   "source": [
    "# Very bad way\n",
    "# Only for studying purposes\n",
    "def get_value_prob(value: int, x: np.ndarray) -> float:\n",
    "    return np.sum(x == value) / len(x)\n",
    "\n",
    "\n",
    "def calc_expectation(x: np.ndarray) -> float:\n",
    "    E = 0.0\n",
    "    for value in set(x.tolist()):\n",
    "        E += value * get_value_prob(value, x)\n",
    "    return E\n",
    "\n",
    "\n",
    "def calc_variance(x: np.ndarray) -> float:\n",
    "    var = 0.0\n",
    "    E = calc_expectation(x)\n",
    "    for value in set(x.tolist()):\n",
    "        var += (value - E) ** 2 * get_value_prob(value, x)\n",
    "    return var"
   ]
  },
  {
   "cell_type": "code",
   "execution_count": null,
   "id": "applicable-sister",
   "metadata": {},
   "outputs": [],
   "source": [
    "print(f\"Expected Value: {calc_expectation(x)}\\nVariance: {calc_variance(x)}\")"
   ]
  },
  {
   "cell_type": "markdown",
   "id": "female-cannon",
   "metadata": {},
   "source": [
    "Expected Value: Linear property + Multiplication of independent random variables"
   ]
  },
  {
   "cell_type": "code",
   "execution_count": null,
   "id": "accurate-terminal",
   "metadata": {},
   "outputs": [],
   "source": [
    "a = 3\n",
    "b = 4\n",
    "p1 = 0.1\n",
    "p2 = 0.3\n",
    "size = 100000\n",
    "x1 = sps.bernoulli.rvs(p1, size=size)\n",
    "x2 = sps.bernoulli.rvs(p2, size=size)\n",
    "x = a * x1 + b * x2\n",
    "\n",
    "print(\n",
    "    f\"E(X) = {calc_expectation(x)}\"\n",
    "    f\"\\naE(X1) + bE(X2) = {a*calc_expectation(x1) + b*calc_expectation(x2)}\"\n",
    "    f\"\\na*p1 + b*p2 = {a*p1 + b*p2}\"\n",
    ")\n",
    "print(\"-\" * 25)\n",
    "print(\n",
    "    f\"E(X1*X2) = {calc_expectation(x1 * x2)}\"\n",
    "    f\"\\nE(X1)E(X2) = {calc_expectation(x1)*calc_expectation(x2)}\"\n",
    ")"
   ]
  },
  {
   "cell_type": "markdown",
   "id": "trained-color",
   "metadata": {},
   "source": [
    "Variance: properties"
   ]
  },
  {
   "cell_type": "code",
   "execution_count": null,
   "id": "operational-enzyme",
   "metadata": {},
   "outputs": [],
   "source": [
    "print(f\"D(aX1) = {calc_variance(a * x1)}\\n\" f\"a**2D(X1) = {a**2 * calc_variance(x1)}\")\n",
    "print(\"-\" * 25)\n",
    "print(f\"D(X1) = {calc_variance(x1)}\\nD(X1 + b) = {calc_variance(x1 + b)}\")\n",
    "print(\"-\" * 25)\n",
    "print(\n",
    "    f\"D(X1+X2) = {calc_variance(x1+x2)}\" f\"\\nD(X1)+D(X2) = {calc_variance(x1) + calc_variance(x2)}\"\n",
    ")\n",
    "print(\"-\" * 25)\n",
    "print(\n",
    "    f\"D(X1 + sin(X1)) = {calc_variance(x1 + np.sin(x1))}\\n\"\n",
    "    f\"D(X1) + D(sin(X1)) = {calc_variance(x1) + calc_variance(np.sin(x1))}\"\n",
    ")"
   ]
  },
  {
   "cell_type": "markdown",
   "id": "certain-tracy",
   "metadata": {},
   "source": [
    "#### Example: [Binomial distribution](https://en.wikipedia.org/wiki/Binomial_distribution)\n",
    "The binomial distribution with parameters n and p ($Bin(n,p)$) - the discrete probability distribution of the number of successes in a sequence of n independent experiments, each asking a yes–no question\n",
    "\n",
    "\n",
    "$EX = \\text{(Linear property)} = \\sum_i^n{EX_i}$\n",
    "\n",
    "where $X_i \\sim Bern(p)$\n",
    "\n",
    "$EX = nEX_1 = np$\n",
    "\n",
    "---\n",
    "$$DX = (X_i \\bot X_j\\ \\forall i, j \\in [1\\dots n], i \\neq j) = \\sum_i^n{DX_i} = nDX_1 = np(1 - p)$$\n"
   ]
  },
  {
   "cell_type": "code",
   "execution_count": null,
   "id": "alpine-amplifier",
   "metadata": {},
   "outputs": [],
   "source": [
    "n = 10\n",
    "p = 0.5\n",
    "x = sps.binom.rvs(n, p, size=size)\n",
    "\n",
    "print(f\"np = {n*p}; np(1 - p) = {n * p * (1 - p)}\\n\" f\"E(X) = {x.mean()}\\n\" f\"D(X) = {x.var()}\")"
   ]
  },
  {
   "cell_type": "markdown",
   "id": "verified-difficulty",
   "metadata": {},
   "source": [
    "#### [Law of Large Numbers](https://en.wikipedia.org/wiki/Law_of_large_numbers)\n",
    "\n",
    "Let $\\xi_1,\\dots\\xi_n$ - i.i.d; $E\\xi_1 = a$\n",
    "\n",
    "$$\\frac{\\xi_1+\\dots+\\xi}{n} \\rightarrow^{a.s.} a$$\n",
    "\n",
    "[Almost sure convergence](https://en.wikipedia.org/wiki/Convergence_of_random_variables#Almost_sure_convergence)"
   ]
  },
  {
   "cell_type": "markdown",
   "id": "recognized-gather",
   "metadata": {},
   "source": [
    "Let's try to visualize it"
   ]
  },
  {
   "cell_type": "code",
   "execution_count": null,
   "id": "mechanical-participant",
   "metadata": {},
   "outputs": [],
   "source": [
    "import matplotlib.pyplot as plt\n",
    "import seaborn as sns\n",
    "\n",
    "\n",
    "sns.set(font_scale=1.6, palette=\"summer\")\n",
    "%matplotlib inline"
   ]
  },
  {
   "cell_type": "code",
   "execution_count": null,
   "id": "applied-disorder",
   "metadata": {},
   "outputs": [],
   "source": [
    "size = 1000\n",
    "samples = sps.bernoulli(p=0.5).rvs(size=size)\n",
    "cum_means = samples.cumsum() / (np.arange(size) + 1)"
   ]
  },
  {
   "cell_type": "code",
   "execution_count": null,
   "id": "hourly-decade",
   "metadata": {},
   "outputs": [],
   "source": [
    "plt.figure(figsize=(15, 5))\n",
    "plt.plot(cum_means, lw=3)\n",
    "plt.hlines(0.5, 0, size, alpha=0.3)\n",
    "plt.xlabel(\"Number of random variables\")\n",
    "plt.ylabel(\"The value of the average\")\n",
    "plt.xlim((0, size));"
   ]
  },
  {
   "cell_type": "markdown",
   "id": "durable-principle",
   "metadata": {},
   "source": [
    "Single experiment is almost always not enough. Let's conduct 10 more experiments, and visualize each of them on different plots"
   ]
  },
  {
   "cell_type": "code",
   "execution_count": null,
   "id": "pretty-cosmetic",
   "metadata": {},
   "outputs": [],
   "source": [
    "plt.figure(figsize=(20, 20))\n",
    "\n",
    "for i in range(10):\n",
    "\n",
    "    samples = sps.bernoulli(p=0.5).rvs(size=size)\n",
    "    cum_means = samples.cumsum() / (np.arange(size) + 1)\n",
    "\n",
    "    plt.subplot(5, 2, i + 1)\n",
    "    plt.plot(cum_means, lw=3)\n",
    "    plt.hlines(0.5, 0, size, alpha=0.3)\n",
    "    plt.xlabel(\"Number of random variables\")\n",
    "    plt.ylabel(\"The value of the average\")\n",
    "    plt.xlim((-5, size))\n",
    "\n",
    "plt.tight_layout()"
   ]
  },
  {
   "cell_type": "markdown",
   "id": "reserved-entrance",
   "metadata": {},
   "source": [
    "And now, even more experiments, on single plot"
   ]
  },
  {
   "cell_type": "code",
   "execution_count": null,
   "id": "continental-welcome",
   "metadata": {},
   "outputs": [],
   "source": [
    "size = 1000\n",
    "samples_count = 500\n",
    "\n",
    "samples = sps.bernoulli(p=0.5).rvs(size=(samples_count, size))\n",
    "cum_means = samples.cumsum(axis=1) / (np.arange(size) + 1)"
   ]
  },
  {
   "cell_type": "code",
   "execution_count": null,
   "id": "divided-context",
   "metadata": {},
   "outputs": [],
   "source": [
    "plt.figure(figsize=(15, 7))\n",
    "\n",
    "for i in range(samples_count):\n",
    "    plt.plot(np.arange(size) + 1, cum_means[i], color=\"green\", alpha=0.02)\n",
    "\n",
    "plt.xlabel(\"Number of random variables\")\n",
    "plt.ylabel(\"The value of the average\")\n",
    "plt.xlim((0, size));"
   ]
  },
  {
   "cell_type": "markdown",
   "id": "everyday-commercial",
   "metadata": {},
   "source": [
    "#### [Central Limit Theorem](https://en.wikipedia.org/wiki/Central_limit_theorem)"
   ]
  },
  {
   "cell_type": "markdown",
   "id": "suitable-vancouver",
   "metadata": {},
   "source": [
    "$X_1,\\dots,X_n$ - i.i.d,\n",
    "    $$ \\frac{\\sum{X_i}}{n} \\rightarrow^d \\mathcal{N}\\left(E(X), \\frac{D(X)}{n}\\right)$$\n",
    "    \n",
    "[Convergence in distribution](https://en.wikipedia.org/wiki/Convergence_of_random_variables#Convergence_in_distribution)"
   ]
  },
  {
   "cell_type": "markdown",
   "id": "graphic-massage",
   "metadata": {},
   "source": [
    "Let's see an example.\n",
    "\n",
    "We take random variables from [exponential distribution](https://en.wikipedia.org/wiki/Exponential_distribution) and apply clt"
   ]
  },
  {
   "cell_type": "code",
   "execution_count": null,
   "id": "friendly-andorra",
   "metadata": {},
   "outputs": [],
   "source": [
    "sample = sps.expon.rvs(size=1000)\n",
    "fig, ax = plt.subplots(1, 1)\n",
    "\n",
    "x = np.linspace(sps.expon.ppf(0.01), sps.expon.ppf(0.99), 100)\n",
    "\n",
    "ax.plot(x, sps.expon.pdf(x), \"r-\", lw=5, alpha=0.5, label=\"Exponential pdf\")\n",
    "ax.hist(sample, bins=100, density=True, histtype=\"stepfilled\", alpha=0.5, label=\"sample hist\")\n",
    "\n",
    "plt.xlabel(\"Count\")\n",
    "plt.ylabel(\"Frequency\")\n",
    "ax.legend(loc=\"best\", frameon=False)\n",
    "plt.show()"
   ]
  },
  {
   "cell_type": "code",
   "execution_count": null,
   "id": "oriented-harrison",
   "metadata": {},
   "outputs": [],
   "source": [
    "sample_sizes = [500, 1000, 5000]\n",
    "sample_count = 1000\n",
    "lambd = 2.0\n",
    "\n",
    "for size in sample_sizes:\n",
    "    print(f\"Sample size: {size}\")\n",
    "    samples = [sps.expon.rvs(size=size, scale=1.0 / lambd).mean() for _ in range(sample_count)]\n",
    "\n",
    "    plt.hist(\n",
    "        samples,\n",
    "        bins=size // 100,\n",
    "        density=True,\n",
    "        histtype=\"stepfilled\",\n",
    "        alpha=0.5,\n",
    "        label=\"sample hist\",\n",
    "    )\n",
    "\n",
    "    mu = lambd ** (-1)\n",
    "    sigma = (lambd ** (-2) / size) ** 0.5\n",
    "    x = np.linspace(min(samples), max(samples), 100)\n",
    "\n",
    "    plt.plot(x, sps.norm.pdf(x, loc=mu, scale=sigma), \"r-\", lw=5, alpha=0.6, label=\"norm pdf\")\n",
    "\n",
    "    plt.xlabel(\"Count\")\n",
    "    plt.ylabel(\"Frequency\")\n",
    "    plt.legend(loc=\"best\", frameon=False)\n",
    "    plt.show()"
   ]
  },
  {
   "cell_type": "markdown",
   "id": "scientific-prerequisite",
   "metadata": {},
   "source": [
    "#### [Statistical hypothesis testing](https://en.wikipedia.org/wiki/Statistical_hypothesis_testing)"
   ]
  },
  {
   "cell_type": "markdown",
   "id": "canadian-rider",
   "metadata": {},
   "source": [
    "##### [Kolmogorov–Smirnov test](https://en.wikipedia.org/wiki/Kolmogorov–Smirnov_test)\n",
    "\n",
    "$X_1\\dots X_n$ - samples with unknown [cumulative distribution function](https://en.wikipedia.org/wiki/Cumulative_distribution_function) $F$\n",
    "\n",
    "$H_0:F = F_0$\n",
    "\n",
    "$H_1:F = F_1$\n"
   ]
  },
  {
   "cell_type": "code",
   "execution_count": null,
   "id": "federal-identification",
   "metadata": {},
   "outputs": [],
   "source": [
    "sps.kstest(sps.norm.rvs(size=100), cdf=sps.norm.cdf)"
   ]
  },
  {
   "cell_type": "code",
   "execution_count": null,
   "id": "behavioral-classics",
   "metadata": {},
   "outputs": [],
   "source": [
    "# sps.kstest?"
   ]
  },
  {
   "cell_type": "markdown",
   "id": "surgical-controversy",
   "metadata": {},
   "source": [
    "*KstestResult* has 2 fields\n",
    "\n",
    "`statistic` - criterion statistics\n",
    "\n",
    "`pvalue` - The p-value is the probability that a given result (or a more significant result) would occur under the null hypothesis."
   ]
  },
  {
   "cell_type": "code",
   "execution_count": null,
   "id": "interim-coordination",
   "metadata": {},
   "outputs": [],
   "source": [
    "def reject_or_nor(pval: float, alpha: float = 0.05):\n",
    "    print(f\"P-value = {pval}\")\n",
    "    if pval < alpha:\n",
    "        print(f\"The null hypothesis is rejected at\" f\"the chosen level of significance {alpha}\")\n",
    "    else:\n",
    "        print(f\"The null hypothesis is NOT rejected at\" f\"the chosen level of significance {alpha}\")"
   ]
  },
  {
   "cell_type": "code",
   "execution_count": null,
   "id": "limited-match",
   "metadata": {},
   "outputs": [],
   "source": [
    "# shouldn't be rejected:\n",
    "pval = sps.kstest(sps.norm.rvs(size=100), cdf=sps.norm.cdf).pvalue\n",
    "reject_or_nor(pval)\n",
    "\n",
    "# should be rejected:\n",
    "pval = sps.kstest(sps.norm(loc=10).rvs(size=100), cdf=sps.norm.cdf).pvalue\n",
    "reject_or_nor(pval)\n",
    "\n",
    "\n",
    "# should be rejected:\n",
    "pval = sps.kstest(sps.uniform.rvs(size=100), cdf=sps.norm.cdf).pvalue\n",
    "reject_or_nor(pval)"
   ]
  },
  {
   "cell_type": "markdown",
   "id": "electric-ordering",
   "metadata": {},
   "source": [
    "##### [Shapiro-Wilk criterion](http://www.machinelearning.ru/wiki/index.php?title=Критерий_Шапиро-Уилка)\n",
    "\n",
    "$X_1\\dots X_n$ - samples \n",
    "\n",
    "$H_0:$ samples are from [normal distribution](https://ru.wikipedia.org/wiki/Нормальное_распределение) with arbitrary parameters\n",
    "\n",
    "$H_1:$ samples aren't from normal distribution"
   ]
  },
  {
   "cell_type": "code",
   "execution_count": null,
   "id": "unexpected-actress",
   "metadata": {},
   "outputs": [],
   "source": [
    "# shouldn't be rejected:\n",
    "pval = sps.shapiro(sps.norm.rvs(size=100)).pvalue\n",
    "reject_or_nor(pval)\n",
    "\n",
    "# shouldn't be rejected:\n",
    "pval = sps.shapiro(sps.norm(loc=20, scale=100).rvs(size=100)).pvalue\n",
    "reject_or_nor(pval)\n",
    "\n",
    "\n",
    "# should be rejected:\n",
    "pval = sps.shapiro(sps.uniform.rvs(size=100)).pvalue\n",
    "reject_or_nor(pval)"
   ]
  },
  {
   "cell_type": "markdown",
   "id": "champion-worcester",
   "metadata": {},
   "source": [
    "#### [Student's t-test (independent samples)](https://en.wikipedia.org/wiki/Student%27s_t-test#Independent_(unpaired)_samples)\n",
    "\n",
    "$X_1\\dots X_n\\sim\\mathcal{N}(a_1, \\sigma_1^2)$\n",
    "\n",
    "$Y_1\\dots Y_m\\sim\\mathcal{N}(a_2, \\sigma_2^2)$\n",
    "\n",
    "$X_i\\bot Y_j$\n",
    "\n",
    "---\n",
    "$H_0: a_1 = a_2$\n",
    "\n",
    "$H_1: a_1 \\neq a_2$"
   ]
  },
  {
   "cell_type": "code",
   "execution_count": null,
   "id": "pretty-detroit",
   "metadata": {},
   "outputs": [],
   "source": [
    "# should be rejected\n",
    "sample_1 = sps.norm(loc=0).rvs(size=100)\n",
    "sample_2 = sps.norm(loc=1).rvs(size=150)\n",
    "pval = sps.ttest_ind(sample_1, sample_2).pvalue\n",
    "reject_or_nor(pval)\n",
    "\n",
    "# should be rejected, but sometimes....\n",
    "sample_1 = sps.norm(loc=0).rvs(size=50)\n",
    "sample_2 = sps.norm(loc=1, scale=7).rvs(size=100)\n",
    "pval = sps.ttest_ind(sample_1, sample_2, equal_var=False).pvalue\n",
    "\n",
    "reject_or_nor(pval)"
   ]
  },
  {
   "cell_type": "markdown",
   "id": "economic-mission",
   "metadata": {},
   "source": [
    "#### [Student's t-test (paired samples)](https://en.wikipedia.org/wiki/Student%27s_t-test#Paired_samples)\n",
    "\n",
    "$X_1\\dots X_n\\sim\\mathcal{N}(a_1, \\sigma_1^2)$\n",
    "\n",
    "$Y_1\\dots Y_m\\sim\\mathcal{N}(a_2, \\sigma_2^2)$\n",
    "\n",
    "$X_i$ and $Y_j$ can be paired\n",
    "\n",
    "---\n",
    "$H_0: a_1 = a_2$\n",
    "\n",
    "$H_1: a_1 \\neq a_2$"
   ]
  },
  {
   "cell_type": "code",
   "execution_count": null,
   "id": "advanced-marriage",
   "metadata": {},
   "outputs": [],
   "source": [
    "# shouldn't be rejected\n",
    "sample_1 = sps.norm(loc=0).rvs(size=100)\n",
    "sample_2 = sample_1 + sps.norm(loc=0, scale=0.5).rvs(size=100)\n",
    "pval = sps.ttest_rel(sample_1, sample_2).pvalue\n",
    "reject_or_nor(pval)\n",
    "\n",
    "# should be rejected\n",
    "sample_1 = sps.norm(loc=0).rvs(size=100)\n",
    "sample_2 = sample_1 + sps.norm(loc=1, scale=0.5).rvs(size=100)\n",
    "pval = sps.ttest_rel(sample_1, sample_2).pvalue\n",
    "reject_or_nor(pval)"
   ]
  },
  {
   "cell_type": "markdown",
   "id": "automotive-caution",
   "metadata": {},
   "source": [
    "---"
   ]
  }
 ],
 "metadata": {
  "kernelspec": {
   "display_name": "Python 3",
   "language": "python",
   "name": "python3"
  },
  "language_info": {
   "codemirror_mode": {
    "name": "ipython",
    "version": 3
   },
   "file_extension": ".py",
   "mimetype": "text/x-python",
   "name": "python",
   "nbconvert_exporter": "python",
   "pygments_lexer": "ipython3",
   "version": "3.9.7"
  }
 },
 "nbformat": 4,
 "nbformat_minor": 5
}
