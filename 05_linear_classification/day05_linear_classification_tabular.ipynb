{
 "cells": [
  {
   "cell_type": "markdown",
   "metadata": {
    "colab_type": "text",
    "id": "fF3yRJZQ4H88",
    "nbgrader": {
     "grade": false,
     "grade_id": "cell-512ba712fc0fc065",
     "locked": true,
     "schema_version": 2,
     "solution": false
    }
   },
   "source": [
    "## Занятие №5. Задача классификации. Обзор моделей и способов оценки качества.\n",
    "\n",
    "\n",
    "#### План занятия.\n",
    "1. Повторение основных понятий.\n",
    "2. Основные моменты при работе с данными, о которых стоит помнить.\n",
    "3. Способы оценки качества решения в задаче классификации.\n",
    "4. Обзор типов моделей.\n",
    "5. Решение задачи с табличными данными."
   ]
  },
  {
   "cell_type": "markdown",
   "metadata": {},
   "source": [
    "### Recap: основные понятия\n",
    "__Объект__ – атомарная сущность в некоторой задаче. Как правило, для объекта необходимо предсказать значение целевой переменной, принадлежность к некоторой группе объектов или же другое свойство.\n",
    "\n",
    "__Признак__ – величина, описывающая одно из свойств объекта. Например, число (рост), категория (цвет глаз). К признаковому описанию объекта могут быть отнесены и более сложные структуры, например, изображение или запись голоса.\n",
    "\n",
    "__Задача обучения с учителем, supervised learning problem__ – задача, в которой необходимо предсказать значение __целевой переменной (ответа)__ на новом (ранее не наблюдаемом) объекте. __Для некоторого множества объектов эти значения известны (например, получены с помощью экспертной разметки).__\n",
    "\n",
    "__Задача обучения без учителя, unsupervised learning__ – задача, в которой __нет целевой переменной__ и, как правило, необходимо найти некоторую внутреннюю структуру данных.\n",
    "\n",
    "__Задача регрессии__ – задача обучения с учителем, где целевая переменная является континуальным числом (т.е. принимает континуальное число значений). Например, предсказание ожидаемой зарплаты на основе резюме соискателя. Или же предсказание возраста пользователя интернета на основе его поведения в интернете.\n",
    "\n",
    "__Задача классификации__ – задача обучения с учителем, где целевая переменная является меткой класса (т.е. может принимать конечное число значений). Например, определение эмоциональной окраски сообщения (позитивная или негативная), или же определение социальной группы, к которой принадлежит клиент банка на основе его трат. Часто разделяют бинарную классификацию (где рассматривается всего два класса, например фрод/не фрод) и мультиклассовую классификацию (где классов может быть конечное число, например пять социальных групп).\n",
    "\n",
    "__Модель__ (в обучении с учителем) – функция или правило, позволяющая предсказать ответ для любого объекта подходящей структуры (т.е. описываемого теми же признаками, с которыми работает модель). Формально, отображение из пространства объектов в пространство ответов.\n",
    "\n",
    "__Набор данных, выборка, датасет__  – множество пар объект-ответ (в обучении с учителем), которое используется при настройке параметров (обучении) модели. В обучении без учителя просто множество объектов.\n",
    "\n",
    "__Обучающая выборка__ – выборка, на которой происходит настройка параметров модели.\n",
    "\n",
    "__Тестовая выборка__ – выборка, на которой происходит оценка качества модели. Должна быть максимально приближена к реальным данным, на которых планируется эксплуатировать модель.\n",
    "\n",
    "__Валидационная выборка__ – выборка, на которой происходит выбор оптимальной структуры модели и подбор ее гиперпараметров.\n",
    "\n",
    "\n",
    "__Валидационная выборка не является тестовой!__"
   ]
  },
  {
   "cell_type": "markdown",
   "metadata": {},
   "source": [
    "## Какой природы бывают данные?\n",
    "* __Табличные данные__. Классическая ситуация: на каждой строке отдельный объект, каждый столбец – некоторый признак, описывающий этот объект. Бывают мультикоррелирующие признаки. Информация кроется в значениях признаков. Перестановка признаков местами (перестановка столбцов) ни на что не влияет.\n",
    "\n",
    "* __Изображения__. Данные представляют собой изображение, состоящее из пикселей. Обладает пространственной структурой, информация кроется в том, как пиксели упорядочены. Перестановка пикселей приводит к потере информации.\n",
    "\n",
    "* __Последовательности__. Набор значений, на которых задано отношение порядка. Значения могут быть дискретными (например, ДНК), или же могут принимать значения из непрерывного интервала (временной ряд энергопотребления дата центра). Перестановка значений приводит к потере информации. Нельзя нарушать отношение порядка (тестирование на прошлом, обучение на будущем).\n",
    "\n",
    "* __Тексты__. Данные представляют собой набор слов/символов. По факту являются последовательностями значений из конечного алфавита, но обладают достаточно строгой внутренней структурой ввиду существования грамматики.\n",
    "\n",
    "* __Графы__. Данные представляют собой набор вершин и связей между ними. Связь между парой вершин означает наличие некоторого отношения между этими вершинами, которое может быть как направленным, так и ненаправленным. Например, в социальной сети вершинами могут являться пользователи, пользователи находящиеся в списке друзей друг у друга связаны ребрами типа \"дружба\". Подписчики связаны с пользовтелем, на которого они подписаны направленным ребром типа \"подписка\".\n",
    "\n",
    "* __Данные сложной природы__. Например, видео – последовательность изображений. Или граф социальной сети, где для каждого пользователя доступны не только списки друзей и подписчиков, но и фотография/аватар, некоторые высказывания и пр.\n",
    "\n",
    "*Конечно, это далеко не все типы данных, с которыми можно столкнуться. На текущий момент ограничимся этим списком.*"
   ]
  },
  {
   "cell_type": "markdown",
   "metadata": {
    "colab_type": "text",
    "id": "-_h5M0x74H89",
    "nbgrader": {
     "grade": false,
     "grade_id": "cell-b656a4266174b009",
     "locked": true,
     "schema_version": 2,
     "solution": false
    }
   },
   "source": [
    "## Работа с данными\n",
    "Сегодня мы рассмотрим табличные [данные об автомобилях](https://archive.ics.uci.edu/ml/datasets/Statlog+%28Vehicle+Silhouettes%29). Каждый автомобиль – отдельный объект, который описывается числовыми признаками и относится к одному из четырех классов. Т.е. решается задача многоклассовой классификации с числом классов $k=4$.\n",
    "\n",
    "На что стоит обратить внимание при начале работы с табличными данными?\n",
    "* На наличие пропусков в данных.\n",
    "* На баланс/дисбаланс классов.\n",
    "* На типы данных, с которыми предстоит работать.\n",
    "\n",
    "Ответим на эти вопросы"
   ]
  },
  {
   "cell_type": "code",
   "execution_count": null,
   "metadata": {
    "colab": {
     "base_uri": "https://localhost:8080/",
     "height": 220
    },
    "colab_type": "code",
    "id": "Rojf5h404H8-",
    "outputId": "f32e0a76-67ef-488d-be5d-ed466f812ae1"
   },
   "outputs": [],
   "source": [
    "# If on colab, uncomment the following lines\n",
    "\n",
    "! wget https://raw.githubusercontent.com/girafe-ai/madmo-basic/madmo-basic-21-11/05_linear_classification/car_data.csv"
   ]
  },
  {
   "cell_type": "code",
   "execution_count": null,
   "metadata": {},
   "outputs": [],
   "source": [
    "import pandas as pd\n",
    "import numpy as np\n",
    "from sklearn.model_selection import train_test_split"
   ]
  },
  {
   "cell_type": "code",
   "execution_count": null,
   "metadata": {},
   "outputs": [],
   "source": [
    "import sys\n",
    "import numpy as np\n",
    "import warnings\n",
    "warnings.filterwarnings(\"ignore\")\n",
    "import matplotlib.pyplot as plt\n",
    "import matplotlib\n",
    "matplotlib.rcParams.update({'font.size': 15})\n",
    "\n",
    "from IPython.display import clear_output\n",
    "\n",
    "print(f'Python version: {sys.version}\\n')\n",
    "import plotly.io as pio\n",
    "import plotly.express as px\n",
    "\n",
    "from plotly import graph_objects as go\n",
    "import seaborn as sns\n",
    "sns.set(style=\"ticks\", context=\"talk\")\n",
    "plt.style.use('dark_background')\n",
    "sns.set_style('dark')\n",
    "pio.templates.default = \"plotly_dark\"\n",
    "\n",
    "\n"
   ]
  },
  {
   "cell_type": "code",
   "execution_count": null,
   "metadata": {},
   "outputs": [],
   "source": [
    "column_names = [\n",
    "    \"Compactness\", \"Circularity\", \"Distance Circularity\", \"Radius Ratio\", \"Praxis Aspect Ratio\",\n",
    "    \"Maxlength Aspect Ratio\", \"Scatter Ratio\", \"Elongatedness\", \"Praxis Rectangularity\", \"Maxlength Rectangularity\",\n",
    "    \"Scaled Variance Along Major Axis\", \"Scaled Variance Along Minor Axis\", \"Scaled Radius of Gyration\",\n",
    "    \"Skewness About Major Axis\", \"Skewness About Minor Axis\", \"Kurtosis About Minor Axis\", \"Kurtosis About Major Axis\",\n",
    "    \"Hollows Ratio\", \"Class Label\"\n",
    "]\n",
    "column_names = [e.upper() for e in column_names]"
   ]
  },
  {
   "cell_type": "code",
   "execution_count": null,
   "metadata": {},
   "outputs": [],
   "source": [
    "dataset = pd.read_csv('car_data.csv', delimiter=',', header=None, names=column_names, index_col=0)"
   ]
  },
  {
   "cell_type": "markdown",
   "metadata": {},
   "source": [
    "Датасет небольших размеров:"
   ]
  },
  {
   "cell_type": "code",
   "execution_count": null,
   "metadata": {},
   "outputs": [],
   "source": [
    "dataset.shape"
   ]
  },
  {
   "cell_type": "markdown",
   "metadata": {},
   "source": [
    "Посмотрим на набор данных:"
   ]
  },
  {
   "cell_type": "code",
   "execution_count": null,
   "metadata": {},
   "outputs": [],
   "source": [
    "dataset.head()"
   ]
  },
  {
   "cell_type": "code",
   "execution_count": null,
   "metadata": {},
   "outputs": [],
   "source": [
    "dataset.head()"
   ]
  },
  {
   "cell_type": "markdown",
   "metadata": {},
   "source": [
    "Не слишком информативно. Рассмотрим статистики по всему датасету."
   ]
  },
  {
   "cell_type": "code",
   "execution_count": null,
   "metadata": {},
   "outputs": [],
   "source": [
    "dataset.describe()"
   ]
  },
  {
   "cell_type": "code",
   "execution_count": null,
   "metadata": {},
   "outputs": [],
   "source": [
    "dataset.info()"
   ]
  },
  {
   "cell_type": "code",
   "execution_count": null,
   "metadata": {},
   "outputs": [],
   "source": [
    "dataset.nunique()"
   ]
  },
  {
   "cell_type": "markdown",
   "metadata": {},
   "source": [
    "Пропусков в данных нет, все значения признаков – целые числа."
   ]
  },
  {
   "cell_type": "code",
   "execution_count": null,
   "metadata": {},
   "outputs": [],
   "source": [
    "class_counts = dataset['CLASS LABEL'].value_counts()"
   ]
  },
  {
   "cell_type": "code",
   "execution_count": null,
   "metadata": {},
   "outputs": [],
   "source": [
    "plt.figure(figsize=(10, 10))\n",
    "plt.pie(class_counts.values, labels=class_counts.index, autopct = '%.2f%%')\n",
    "plt.title('Different classes', fontsize = 30)\n",
    "\n"
   ]
  },
  {
   "cell_type": "code",
   "execution_count": null,
   "metadata": {},
   "outputs": [],
   "source": [
    "color_mapper = {'saab': 'orange', 'bus': 'green', 'opel': 'blue', 'van': 'red'}"
   ]
  },
  {
   "cell_type": "markdown",
   "metadata": {},
   "source": [
    "Видим, что классы хорошо сбалансированы. \n",
    "\n",
    "Подведем небольшой итог:\n",
    "* Пропусков в данных нет\n",
    "* Классы сбалансированы\n",
    "* Все признаки числовые\n",
    "\n",
    "С учетом вышесказанного можно сделать вывод, что сегодня наша задача не требует серьезной работы для предобработки данных."
   ]
  },
  {
   "cell_type": "markdown",
   "metadata": {},
   "source": [
    "## Разведочный анализ и визуализация данных.\n",
    "На данные полезно посмотреть в различных визуализациях. Есть множество способов представить многомерные данные, обратимся к наиболее простым и визуально информативным."
   ]
  },
  {
   "cell_type": "code",
   "execution_count": null,
   "metadata": {},
   "outputs": [],
   "source": [
    "feature_columns = dataset.columns[:-1]\n",
    "target_column = dataset.columns[-1]"
   ]
  },
  {
   "cell_type": "code",
   "execution_count": null,
   "metadata": {},
   "outputs": [],
   "source": [
    "corr = dataset[feature_columns].corr()\n",
    "\n",
    "heat = go.Heatmap(z=corr,\n",
    "                  x=feature_columns,\n",
    "                  y=feature_columns,\n",
    "                  xgap=1, ygap=1,\n",
    "                  colorbar_thickness=20,\n",
    "                  colorbar_ticklen=3\n",
    "                   )\n",
    "\n",
    "layout = go.Layout(title_text=\"Correlation matrix\", title_x=0.5, \n",
    "                   width=600, height=600,\n",
    "                   xaxis_showgrid=False,\n",
    "                   yaxis_showgrid=False,\n",
    "                   yaxis_autorange='reversed')\n",
    "   \n",
    "fig=go.Figure(data=[heat], layout=layout)   \n",
    "fig.update_layout(\n",
    "    xaxis = dict(\n",
    "        tickmode = 'linear',\n",
    "        tick0 = 0,\n",
    "        dtick = 1\n",
    "    ),\n",
    "    yaxis = dict(\n",
    "        tickmode = 'linear',\n",
    "        tick0 = 0,\n",
    "        dtick = 1\n",
    "    )\n",
    ")\n",
    "fig.show()"
   ]
  },
  {
   "cell_type": "markdown",
   "metadata": {},
   "source": [
    "Некоторые признаки очень сильно коррелируют. Выделим их."
   ]
  },
  {
   "cell_type": "code",
   "execution_count": null,
   "metadata": {},
   "outputs": [],
   "source": [
    "heat = go.Heatmap(z=(abs(corr.values) > 0.99) * 1,\n",
    "                  x=feature_columns,\n",
    "                  y=feature_columns,\n",
    "                  xgap=1, ygap=1,\n",
    "                  colorbar_thickness=20,\n",
    "                  colorbar_ticklen=1\n",
    "                   )\n",
    "\n",
    "layout = go.Layout(title_text=\"Correlation matrix with elements are greater 0.99\", title_x=0.5, \n",
    "                   width=600, height=600,\n",
    "                   xaxis_showgrid=False,\n",
    "                   yaxis_showgrid=False,\n",
    "                   yaxis_autorange='reversed')\n",
    "   \n",
    "fig = go.Figure(data=[heat], layout=layout)     \n",
    "fig.update_layout(\n",
    "    xaxis = dict(\n",
    "        tickmode = 'linear',\n",
    "        tick0 = 0,\n",
    "        dtick = 1\n",
    "    ),\n",
    "    yaxis = dict(\n",
    "        tickmode = 'linear',\n",
    "        tick0 = 0,\n",
    "        dtick = 1\n",
    "    )\n",
    ")\n",
    "fig.show()"
   ]
  },
  {
   "cell_type": "markdown",
   "metadata": {},
   "source": [
    "Исключим 8 и 11 признаки (нумерация начинается с нуля)."
   ]
  },
  {
   "cell_type": "code",
   "execution_count": null,
   "metadata": {},
   "outputs": [],
   "source": [
    "_drop_features_indices = [8, 11]\n",
    "print(feature_columns[_drop_features_indices])\n",
    "selected_feature_columns = [feature for idx, feature in enumerate(feature_columns) if idx not in _drop_features_indices]"
   ]
  },
  {
   "cell_type": "code",
   "execution_count": null,
   "metadata": {},
   "outputs": [],
   "source": [
    "selected_feature_columns"
   ]
  },
  {
   "cell_type": "markdown",
   "metadata": {},
   "source": [
    "Также посмотрим на визуализацию объектов с помощью t-SNE. Это вероятностная техника снижения размерности, часто используемая для визуализации. Не вдаваясь в подробности, этот метод старается сохранить близкие объекты близко друг к другу, а далекие – далеко друг от друга в пространстве меньшей размерности."
   ]
  },
  {
   "cell_type": "code",
   "execution_count": null,
   "metadata": {},
   "outputs": [],
   "source": [
    "from sklearn.manifold import TSNE\n",
    "tsne = TSNE()\n",
    "X_transformed = tsne.fit_transform(dataset[selected_feature_columns].values)\n",
    "# mapper = {x: idx for idx, x in enumerate(list(set(dataset[target_column])))}\n",
    "plt.figure(figsize=(12, 10))\n",
    "for class_label in np.unique(dataset[target_column].values):\n",
    "    ix = np.where(dataset[target_column].values==class_label)\n",
    "    plt.scatter(X_transformed[ix,0], X_transformed[ix, 1], c=color_mapper[class_label], label=class_label)\n",
    "plt.legend()"
   ]
  },
  {
   "cell_type": "markdown",
   "metadata": {},
   "source": [
    "Можно заметить, что класс `bus` достаточно хорошо отделяется от остальных классов. Класс `van` также имеет достаточно четкую структуру. Классы же `opel` и `saab` серьезно перекрывают друг друга.\n",
    "\n",
    "Конечно, на основании такого графика нельзя делать серьезных выводов, но на некоторые мысли он может наводить."
   ]
  },
  {
   "cell_type": "markdown",
   "metadata": {},
   "source": [
    "## Обзор основных мер качества в задаче классификации\n",
    "К сожалению, для оценки качества итоговой модели далеко не всегда удается учесть ее прямое влияние на бизнес. В таких случаях стоит использовать те критерии, которые наиболее согласованы с бизнес значимостью решения. Далее рассмотрим основные способы оценки качества в задачах классификации.\n",
    "\n",
    "### Accuracy\n",
    "__Accuracy__ определяет долю правильно предсказанных меток класса к общему числу объектов. Используется почти всегда вместе с другими метриками, но не подходит для случая сильно несбалансированных классов. В таких случаях может использоваться balanced accuracy.\n",
    "\n",
    "__Precision или же Точность__ требует выбора целевого класса. Оценивает долю объектов, отнесенных к целевому классу корректно относительно общего числа объектов, отнесенного к целевому классу.\n",
    "\n",
    "__Recall или же Полнота__ требует выбора целевого класса. Оценивает долю объектов, отнесенных к целевому классу корректно относительно общего числа объектов целевого класса.\n",
    "\n",
    "Для простоты можно обратиться к иллюстрации\n",
    "\n",
    "![](https://upload.wikimedia.org/wikipedia/commons/thumb/2/26/Precisionrecall.svg/495px-Precisionrecall.svg.png)\n",
    "_By Walber - Own work, CC BY-SA 4.0, https://commons.wikimedia.org/w/index.php?curid=36926283_\n",
    "\n",
    "__F-score__ – среднее гармоническое между Precision и Recall.\n",
    "\n",
    "__ROC-AUC__ – площадь под ROC-кривой. Подходит для бинарной классификации. В многоклассовом случае рассматривает каждый класс против всех остальных. Минимальное осмысленное значение $0.5$, значение меньше сигнализирует о том, что банальная смена меток классов на противоположные даст результат выше $0.5$. Для построения информативной кривой требуется модель, которая умеет предсказывать не только метки классов, но и оценивать уверенность в том или ином предсказании. Пример можно увидеть ниже. Почитать подробнее можно [здесь](https://dyakonov.org/2017/07/28/auc-roc-площадь-под-кривой-ошибок/)."
   ]
  },
  {
   "cell_type": "code",
   "execution_count": null,
   "metadata": {},
   "outputs": [],
   "source": [
    "from sklearn.linear_model import LogisticRegression\n",
    "from sklearn.metrics import plot_roc_curve, roc_auc_score\n",
    "_binary_indices = np.where(dataset[target_column].apply(lambda x: x in ['saab', 'opel']))\n",
    "_binary_problem_feature_matrix = dataset[selected_feature_columns].values[_binary_indices]\n",
    "_binary_problem_target = dataset[target_column].values[_binary_indices]\n",
    "\n",
    "lr = LogisticRegression()\n",
    "lr.fit(_binary_problem_feature_matrix, _binary_problem_target)\n",
    "plot_roc_curve(lr, _binary_problem_feature_matrix, _binary_problem_target)"
   ]
  },
  {
   "cell_type": "markdown",
   "metadata": {},
   "source": [
    "Как видим, результат выше $0.5$, но при этом далек от идеального. Стоит учесть, что это результат на той выборке, на которой обучалась модель, т.е. указанные классы линейно неразделимы."
   ]
  },
  {
   "cell_type": "markdown",
   "metadata": {},
   "source": [
    "## Основные модели в задаче классификации\n",
    "Рассмотрим известные нам семейства моделей и их свойства.\n",
    "\n",
    "__Метод ближайших соседей, kNN__. Метка класса предсказывается на основе ближайших объектов из обучающей выборки. Просто запоминает выборку, слабо подходит для огромных наборов данных без доработок. Страдает от проклятия размерности.\n",
    "\n",
    "__Логистическая регрессия__. Одна из наиболее популярных моделей. Строит линейную разделяющую поверхность. При качественном подброе признаков является отличным baseline-решением, с которым достаточно сложно спорить. Нейронная сеть без скрытого слоя – и есть логистическая регрессия.\n",
    "\n",
    "__Наивный Байесовский классификатор__. Модель, основанная на формуле Байеса. Часто применялась в задаче обнаружения спама. Хорошо работает с категориальными признаками. Может использоваться в качестве простого baseline-решения.\n"
   ]
  },
  {
   "cell_type": "markdown",
   "metadata": {},
   "source": [
    "## Решение задачи классификации.\n",
    "Разделим выборку на `train` и `test` составляющие. Затем обучим каждую из моделей и проинтерпретируем результаты."
   ]
  },
  {
   "cell_type": "code",
   "execution_count": null,
   "metadata": {},
   "outputs": [],
   "source": [
    "from sklearn.model_selection import train_test_split\n",
    "from sklearn.pipeline import Pipeline\n",
    "from sklearn.preprocessing import StandardScaler\n",
    "from sklearn.model_selection import GridSearchCV\n",
    "from sklearn.metrics import confusion_matrix\n",
    "from sklearn.metrics import classification_report\n",
    "\n",
    "X_train, X_test, y_train, y_test = train_test_split(\n",
    "    dataset[selected_feature_columns].values,\n",
    "    dataset[target_column].values,\n",
    "    test_size = 0.3,\n",
    "    random_state = 42\n",
    ")\n",
    "\n",
    "# checking the shapes\n",
    "\n",
    "print(\"Shape of X_train :\", X_train.shape)\n",
    "print(\"Shape of y_train :\", y_train.shape)\n",
    "print(\"Shape of X_test :\", X_test.shape)\n",
    "print(\"Shape of y_test :\", y_test.shape)"
   ]
  },
  {
   "cell_type": "markdown",
   "metadata": {},
   "source": [
    "### Логистическая регрессия\n",
    "Перед обучением отнормируем данные, приведя их к одной шкале."
   ]
  },
  {
   "cell_type": "code",
   "execution_count": null,
   "metadata": {},
   "outputs": [],
   "source": [
    "pipeline = Pipeline(\n",
    "    [\n",
    "        ('scaler', StandardScaler()),\n",
    "        ('linear', LogisticRegression(multi_class='multinomial', solver='saga', tol=1e-3, max_iter=500))\n",
    "    ]\n",
    ")\n",
    "\n",
    "clf = GridSearchCV(pipeline, param_grid={'linear__C': np.linspace(0.1, 10, 21), \n",
    "                                         'linear__penalty': ['l1', 'l2']}, \n",
    "                   scoring=('f1_weighted', 'accuracy'), refit='f1_weighted', verbose=1, n_jobs=-1, cv=5)\n",
    "\n",
    "\n",
    "clf.fit(X_train, y_train)\n",
    "clf.best_params_, clf.best_score_"
   ]
  },
  {
   "cell_type": "code",
   "execution_count": null,
   "metadata": {},
   "outputs": [],
   "source": [
    "best_lr = clf.best_estimator_"
   ]
  },
  {
   "cell_type": "code",
   "execution_count": null,
   "metadata": {},
   "outputs": [],
   "source": [
    "# evaluating the model\n",
    "print(f\"Training Accuracy : {clf.best_estimator_.score(X_train, y_train):.4f}\")\n",
    "print(f\"Testing Accuracy : {clf.best_estimator_.score(X_test, y_test):.4f}\")\n",
    "\n",
    "# confusion matrix\n",
    "cm = confusion_matrix(y_test, clf.best_estimator_.predict(X_test))\n",
    "plt.rcParams['figure.figsize'] = (6, 6)\n",
    "sns.heatmap(cm ,annot = True)\n",
    "\n",
    "# classification report\n",
    "cr = classification_report(y_test, clf.best_estimator_.predict(X_test))\n",
    "print(cr)"
   ]
  },
  {
   "cell_type": "code",
   "execution_count": null,
   "metadata": {},
   "outputs": [],
   "source": [
    "import scikitplot\n",
    "\n",
    "scikitplot.metrics.plot_roc(y_test, clf.best_estimator_.predict_proba(X_test), figsize=(16, 10))"
   ]
  },
  {
   "cell_type": "markdown",
   "metadata": {},
   "source": [
    "### kNN\n",
    "В случае с kNN важна нормировка данных. В отсутствие нормировки большее внимание будет уделяться признакам в больших шкалах."
   ]
  },
  {
   "cell_type": "code",
   "execution_count": null,
   "metadata": {
    "scrolled": false
   },
   "outputs": [],
   "source": [
    "from sklearn.neighbors import KNeighborsClassifier\n",
    "\n",
    "pipeline = Pipeline(\n",
    "    [\n",
    "        ('scaler', StandardScaler()),\n",
    "        ('knn', KNeighborsClassifier()),\n",
    "    ]\n",
    ")\n",
    "\n",
    "clf = GridSearchCV(pipeline, param_grid={'knn__n_neighbors': np.arange(2, 35, 5)}, \n",
    "                   scoring=('f1_weighted', 'accuracy'), refit='f1_weighted', n_jobs=-1, verbose=1, cv=5)\n",
    "clf.fit(X_train, y_train)\n",
    "\n",
    "\n",
    "best_knn = clf.best_estimator_\n",
    "\n",
    "# evaluating the model\n",
    "print(f\"Training Accuracy : {clf.best_estimator_.score(X_train, y_train):.4f}\")\n",
    "print(f\"Testing Accuracy : {clf.best_estimator_.score(X_test, y_test):.4f}\")\n",
    "\n",
    "# confusion matrix\n",
    "cm = confusion_matrix(y_test, clf.best_estimator_.predict(X_test))\n",
    "plt.rcParams['figure.figsize'] = (6, 6)\n",
    "sns.heatmap(cm ,annot = True)\n",
    "\n",
    "# classification report\n",
    "cr = classification_report(y_test, clf.best_estimator_.predict(X_test))\n",
    "print(cr)\n",
    "\n",
    "scikitplot.metrics.plot_roc(y_test, clf.best_estimator_.predict_proba(X_test), figsize=(16, 10))"
   ]
  },
  {
   "cell_type": "markdown",
   "metadata": {},
   "source": [
    "### Анализ моделей при малых объемах выборки\n",
    "Также проанализируем качество моделей в зависимости от объема обучающей выборки."
   ]
  },
  {
   "cell_type": "code",
   "execution_count": null,
   "metadata": {},
   "outputs": [],
   "source": [
    "best_lr"
   ]
  },
  {
   "cell_type": "code",
   "execution_count": null,
   "metadata": {},
   "outputs": [],
   "source": [
    "scaler = StandardScaler()\n",
    "X_train_scaled = scaler.fit_transform(X_train)\n",
    "X_test_scaled = scaler.transform(X_test)"
   ]
  },
  {
   "cell_type": "code",
   "execution_count": null,
   "metadata": {},
   "outputs": [],
   "source": [
    "import random\n",
    "\n",
    "from sklearn.metrics import f1_score\n",
    "colors = ['255,0,0', '0,255,0', '0,0,255', '120,120,0']\n",
    "\n",
    "\n",
    "estimators = [\n",
    "    LogisticRegression(C=1.5, penalty='l1', multi_class='multinomial', solver='saga', tol=1e-3, max_iter=1000),\n",
    "    KNeighborsClassifier(n_neighbors=22)\n",
    "]\n",
    "figures = []\n",
    "for i, clf in enumerate(estimators):\n",
    "    f1_mean = []\n",
    "    f1_std = []\n",
    "    for split in (np.arange(1, 11) / 10):\n",
    "        f1 = []\n",
    "        for random_state in [27, 42, 2020, 11, 2]:\n",
    "            random.seed(random_state)\n",
    "            index = random.choices(np.arange(X_train_scaled.shape[0]), k=np.ceil(split * X_train_scaled.shape[0]).astype(int))\n",
    "            clf.fit(X_train_scaled[index], y_train[index])\n",
    "            y_pred = clf.predict(X_test_scaled)\n",
    "            f1.append(f1_score(y_test, y_pred, average='weighted'))\n",
    "        f1_mean.append(np.mean(f1))\n",
    "        f1_std.append(np.std(f1))\n",
    "    f1_mean = np.array(f1_mean)\n",
    "    f1_std = np.array(f1_std)\n",
    "    figures += [\n",
    "        go.Scatter(\n",
    "            x = np.arange(1, 11) / 10,\n",
    "            y = f1_mean,\n",
    "            name = f\"F1 for {type(clf).__name__}\",\n",
    "            line=dict(color=f'rgb({colors[i]})'),\n",
    "            fill=None\n",
    "        ),\n",
    "        go.Scatter(\n",
    "            x = np.concatenate([np.arange(1, 11), np.arange(10, -1, -1)]) / 10,\n",
    "            y = np.concatenate([f1_mean + f1_std, (f1_mean - f1_std)[::-1]]),\n",
    "            showlegend=False,\n",
    "            fill='tozerox',\n",
    "            fillcolor=f'rgba({colors[i]},0.1)',\n",
    "            mode='none'\n",
    "        )\n",
    "    ]\n",
    "    \n",
    "fig = go.Figure(figures)\n",
    "fig.update_xaxes(type='category')\n",
    "fig.update_layout(\n",
    "    xaxis_title=\"Part of the data\",\n",
    "    yaxis_title=\"score\",\n",
    "    title='Learning curve'\n",
    ")\n",
    "fig.show()"
   ]
  },
  {
   "cell_type": "markdown",
   "metadata": {},
   "source": [
    "Можно заметить, что при использовании всего 10% данных при обучении существенно ухудшилось качество kNN. Это согласуется с принципом действия модели: она лишь сравнивает новые объекты с известными объектами из обучающей выборки.\n",
    "\n",
    "Логистическая регрессия показывает хорошие результаты. Скорее всего, использование нелинейных преобразований над признаками, позволило бы повысить качество результатов."
   ]
  },
  {
   "cell_type": "markdown",
   "metadata": {},
   "source": [
    "## Выводы\n",
    "* Первичный анализ данных позволяет взглянуть на задачу под новым углом и может навести на важные идеи.\n",
    "* Начинать решения лучше с простых моделей, используя полученные результаты в качестве baseline.\n",
    "* Простые модели хорошо работают в условиях малого объема доступных данных.\n",
    "* Линейные модели – дают хорошие baseline результаты.\n",
    "* Предобработка данных (в т.ч. нормировка, работа с пропусками) должна производиться с учетом используемой модели.\n",
    "* Анализ ошибки и качества моделей должен проводиться с привязкой используемых способов оценки качества к бизнес-метрикам."
   ]
  },
  {
   "cell_type": "code",
   "execution_count": null,
   "metadata": {},
   "outputs": [],
   "source": []
  }
 ],
 "metadata": {
  "celltoolbar": "Create Assignment",
  "colab": {
   "name": "day05_classification_practice",
   "provenance": []
  },
  "kernelspec": {
   "display_name": "Python 3 (ipykernel)",
   "language": "python",
   "name": "python3"
  },
  "language_info": {
   "codemirror_mode": {
    "name": "ipython",
    "version": 3
   },
   "file_extension": ".py",
   "mimetype": "text/x-python",
   "name": "python",
   "nbconvert_exporter": "python",
   "pygments_lexer": "ipython3",
   "version": "3.8.12"
  },
  "toc": {
   "base_numbering": 1,
   "nav_menu": {},
   "number_sections": false,
   "sideBar": true,
   "skip_h1_title": false,
   "title_cell": "Table of Contents",
   "title_sidebar": "Contents",
   "toc_cell": false,
   "toc_position": {},
   "toc_section_display": true,
   "toc_window_display": false
  }
 },
 "nbformat": 4,
 "nbformat_minor": 1
}
