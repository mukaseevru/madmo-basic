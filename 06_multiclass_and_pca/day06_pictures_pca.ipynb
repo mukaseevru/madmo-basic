{
 "cells": [
  {
   "cell_type": "markdown",
   "metadata": {},
   "source": [
    "# Pictures compression using SVD\n",
    "In this exercise you are supposed to study how SVD could be used in image compression.\n",
    "\n",
    "_Based on open course in [Numerical Linear Algebra](https://github.com/oseledets/nla2018) by Ivan Oseledets_"
   ]
  },
  {
   "cell_type": "code",
   "execution_count": null,
   "metadata": {
    "scrolled": true
   },
   "outputs": [],
   "source": [
    "# If on colab, uncomment the following lines\n",
    "# ! mkdir data\n",
    "# ! wget https://raw.githubusercontent.com/girafe-ai/madmo-basic/madmo-basic-21-11/06_multiclass_and_pca/data/sb600.jpg\n",
    "# ! wget https://raw.githubusercontent.com/girafe-ai/madmo-basic/madmo-basic-21-11/06_multiclass_and_pca/data/simpsons.jpg\n",
    "# ! wget https://raw.githubusercontent.com/girafe-ai/madmo-basic/madmo-basic-21-11/06_multiclass_and_pca/data/waiting.jpeg\n",
    "# ! mv *.jp* data"
   ]
  },
  {
   "cell_type": "code",
   "execution_count": null,
   "metadata": {},
   "outputs": [],
   "source": [
    "filename_0 = r\"data/waiting.jpeg\"\n",
    "filename_1 = r\"data/sb600.jpg\"\n",
    "filename_2 = r\"data/simpsons.jpg\""
   ]
  },
  {
   "cell_type": "markdown",
   "metadata": {},
   "source": [
    "#### 1. Compute the singular values of some predownloaded image (via the code provided below) and plot them. Do not forget to use logarithmic scale."
   ]
  },
  {
   "cell_type": "markdown",
   "metadata": {},
   "source": [
    "But first, let's try with simple synthetic data.\n",
    "Here comes the example matrix:"
   ]
  },
  {
   "cell_type": "code",
   "execution_count": null,
   "metadata": {},
   "outputs": [],
   "source": [
    "import numpy as np\n",
    "\n",
    "\n",
    "simple_matrix = np.arange(20).reshape((4, 5))\n",
    "u, S, v = np.linalg.svd(simple_matrix, full_matrices=False)\n",
    "print(\"Matrix shape: \", simple_matrix.shape)\n",
    "print(\"U shape: \", u.shape)\n",
    "print(\"S shape: \", S.shape)\n",
    "print(\"V shape: \", v.shape)"
   ]
  },
  {
   "cell_type": "code",
   "execution_count": null,
   "metadata": {},
   "outputs": [],
   "source": [
    "%matplotlib inline\n",
    "import matplotlib.pyplot as plt\n",
    "from PIL import Image, ImageDraw"
   ]
  },
  {
   "cell_type": "markdown",
   "metadata": {},
   "source": [
    "Now let's use a sample image"
   ]
  },
  {
   "cell_type": "code",
   "execution_count": null,
   "metadata": {},
   "outputs": [],
   "source": [
    "face_raw = Image.open(filename_0)\n",
    "face = np.array(face_raw).astype(np.uint8)\n",
    "h, w, c = face.shape\n",
    "\n",
    "print(f\"Image shape: {h} x {w} x {c}\")\n",
    "plt.imshow(face_raw)\n",
    "plt.xticks(())\n",
    "plt.yticks(())\n",
    "plt.title(\"Original Picture\")\n",
    "plt.show()"
   ]
  },
  {
   "cell_type": "code",
   "execution_count": null,
   "metadata": {},
   "outputs": [],
   "source": [
    "# Image is saved as a 3-dimensional array with shape H x W x C (heigt x width x channels)\n",
    "Rf = face[:, :, 0]\n",
    "Gf = face[:, :, 1]\n",
    "Bf = face[:, :, 2]\n",
    "\n",
    "# Compute SVD and plot the singular values for different image channels\n",
    "u, Rs, vh = np.linalg.svd(Rf, full_matrices=False)\n",
    "u, Gs, vh = np.linalg.svd(Gf, full_matrices=False)\n",
    "u, Bs, vh = np.linalg.svd(Bf, full_matrices=False)\n",
    "\n",
    "plt.figure(figsize=(12, 7))\n",
    "plt.plot(Rs, \"ro\")\n",
    "plt.plot(Gs, \"g.\")\n",
    "plt.plot(Bs, \"b:\")\n",
    "plt.yscale(\"log\")\n",
    "plt.ylabel(\"Singular values\")\n",
    "plt.xlabel(\"Singular value order\")\n",
    "plt.show()"
   ]
  },
  {
   "cell_type": "markdown",
   "metadata": {},
   "source": [
    "#### 2. Complete a function ```compress```, that performs SVD and truncates it (using $k$ singular values/vectors). See the prototype below. \n",
    "\n",
    "Note, that in case when your images are not grayscale you have to split your image to channels and work with matrices corresponding to different channels separately.\n",
    "\n",
    "Plot approximate reconstructed image $M_\\varepsilon$ of your favorite image such that $rank(M_\\varepsilon) = 5, 20, 50$ using ```plt.subplots```."
   ]
  },
  {
   "cell_type": "code",
   "execution_count": null,
   "metadata": {},
   "outputs": [],
   "source": [
    "def compress(image, k):\n",
    "    \"\"\"\n",
    "    Perform svd decomposition and truncate it (using k singular values/vectors)\n",
    "\n",
    "    Parameters:\n",
    "        image (np.array):        input image (probably, colourful)\n",
    "\n",
    "        k (int):                 approximation rank\n",
    "\n",
    "    --------\n",
    "    Returns:\n",
    "      reconst_matrix (np.array): reconstructed matrix (tensor in colourful case)\n",
    "\n",
    "      s (np.array):              array of singular values\n",
    "    \"\"\"\n",
    "    image2 = image.copy()\n",
    "\n",
    "    Rf = image2[:, :, 0]\n",
    "    Gf = image2[:, :, 1]\n",
    "    Bf = image2[:, :, 2]\n",
    "\n",
    "    # compute per-channel SVD for and reconstruct the input image with the given approximation rank\n",
    "    Ru, Rs, Rvh = np.linalg.svd(Rf, full_matrices=False)\n",
    "    Gu, Gs, Gvh = np.linalg.svd(Gf, full_matrices=False)\n",
    "    Bu, Bs, Bvh = np.linalg.svd(Bf, full_matrices=False)\n",
    "    Rs = Rs[:k]\n",
    "    Gs = Gs[:k]\n",
    "    Bs = Bs[:k]\n",
    "\n",
    "    reduced_im = np.zeros((image.shape), np.uint8)\n",
    "    Red = Ru[:, :k] @ np.diag(Rs) @ Rvh[:k, :]\n",
    "    Green = Gu[:, :k] @ np.diag(Gs) @ Gvh[:k, :]\n",
    "    Blue = Bu[:, :k] @ np.diag(Bs) @ Bvh[:k, :]\n",
    "\n",
    "    reduced_im[:, :, 0] = Red\n",
    "    reduced_im[:, :, 1] = Green\n",
    "    reduced_im[:, :, 2] = Blue\n",
    "\n",
    "    s = np.zeros((len(Gs), 3))\n",
    "    s[:, 0] = Rs\n",
    "    s[:, 1] = Gs\n",
    "    s[:, 2] = Bs\n",
    "    return reduced_im.copy(), s"
   ]
  },
  {
   "cell_type": "code",
   "execution_count": null,
   "metadata": {},
   "outputs": [],
   "source": [
    "plt.figure(figsize=(18, 12))\n",
    "for i, k in enumerate([350, 300, 250, 200, 150, 100, 50, 20, 5]):\n",
    "    plt.subplot(3, 3, i + 1)\n",
    "    im, s = compress(face, k)\n",
    "    plt.imshow(Image.fromarray(im, \"RGB\"))\n",
    "    plt.xticks(())\n",
    "    plt.yticks(())\n",
    "    plt.title(f\"{k} greatest SV\")"
   ]
  },
  {
   "cell_type": "markdown",
   "metadata": {},
   "source": [
    "#### 3. Plot the following two figures for your favorite picture\n",
    "* How relative error of approximation depends on the rank of approximation?\n",
    "* How compression rate in terms of storing information ((singular vectors + singular numbers) / total size of image) depends on the rank of approximation?"
   ]
  },
  {
   "cell_type": "code",
   "execution_count": null,
   "metadata": {},
   "outputs": [],
   "source": [
    "# fancy progress bar\n",
    "from tqdm.auto import tqdm\n",
    "\n",
    "\n",
    "k_list = range(5, 386, 5)\n",
    "rel_err = []\n",
    "info = []\n",
    "for k in tqdm(k_list, leave=False):\n",
    "    img, s = compress(face, k)\n",
    "    # estimate MSE(reconstructed_img, source_img) / l2_norm(reconstructed_img) / l2_norm(source_img)\n",
    "    current_relative_error = np.linalg.norm(img.astype(np.float64) - face.astype(np.float64))\n",
    "    current_relative_error /= np.linalg.norm(face.astype(np.float64))\n",
    "\n",
    "    current_information = k * (385 + 1 + 498)  # U(385xK) @ S(diag KxK) @ V^T(Kx498)\n",
    "\n",
    "    rel_err.append(current_relative_error)\n",
    "    info.append(current_information)\n",
    "\n",
    "plt.figure(figsize=(12, 7))\n",
    "\n",
    "plt.subplot(2, 1, 1)\n",
    "plt.title(\"Memory volume plot\")\n",
    "plt.xlabel(\"Rank\")\n",
    "plt.ylabel(\"Bytes\")\n",
    "plt.plot(k_list, info)\n",
    "\n",
    "plt.subplot(2, 1, 2)\n",
    "plt.title(\"Relative error plot\")\n",
    "plt.xlabel(\"Rank\")\n",
    "plt.ylabel(\"Rel err value\")\n",
    "plt.plot(k_list, rel_err)\n",
    "\n",
    "plt.tight_layout()\n",
    "plt.show()"
   ]
  },
  {
   "cell_type": "markdown",
   "metadata": {},
   "source": [
    "#### 4. Consider the following two pictures. Compute their approximations (with the same rank, or relative error). What do you see? Explain results."
   ]
  },
  {
   "cell_type": "code",
   "execution_count": null,
   "metadata": {},
   "outputs": [],
   "source": [
    "image_raw1 = Image.open(filename_1)\n",
    "image_raw2 = Image.open(filename_2)\n",
    "\n",
    "image1 = np.array(image_raw1).astype(np.uint8)\n",
    "image2 = np.array(image_raw2).astype(np.uint8)\n",
    "\n",
    "plt.figure(figsize=(18, 6))\n",
    "plt.subplot(1, 2, 1)\n",
    "plt.imshow(image_raw1)\n",
    "plt.title(\"One Picture\")\n",
    "plt.xticks(())\n",
    "plt.yticks(())\n",
    "\n",
    "plt.subplot(1, 2, 2)\n",
    "plt.imshow(image_raw2)\n",
    "plt.title(\"Another Picture\")\n",
    "plt.xticks(())\n",
    "plt.yticks(())\n",
    "\n",
    "plt.show()"
   ]
  },
  {
   "cell_type": "markdown",
   "metadata": {},
   "source": [
    "### Same Rank"
   ]
  },
  {
   "cell_type": "code",
   "execution_count": null,
   "metadata": {},
   "outputs": [],
   "source": [
    "# Your code is here\n",
    "im1, s = compress(image1, 100)\n",
    "im2, s = compress(image2, 100)\n",
    "\n",
    "plt.figure(figsize=(18, 6))\n",
    "\n",
    "plt.subplot(1, 2, 1)\n",
    "plt.imshow(Image.fromarray(im1, \"RGB\"))\n",
    "plt.xticks(())\n",
    "plt.yticks(())\n",
    "\n",
    "plt.subplot(1, 2, 2)\n",
    "plt.imshow(Image.fromarray(im2, \"RGB\"))\n",
    "plt.xticks(())\n",
    "plt.yticks(())\n",
    "\n",
    "plt.show()"
   ]
  },
  {
   "cell_type": "markdown",
   "metadata": {},
   "source": [
    "### Same Relative Error"
   ]
  },
  {
   "cell_type": "code",
   "execution_count": 24,
   "metadata": {},
   "outputs": [
    {
     "data": {
      "application/vnd.jupyter.widget-view+json": {
       "model_id": "22977a949b2f4c71a7336ac1083a6ed5",
       "version_major": 2,
       "version_minor": 0
      },
      "text/plain": [
       "  0%|          | 0/495 [00:00<?, ?it/s]"
      ]
     },
     "metadata": {},
     "output_type": "display_data"
    },
    {
     "name": "stdout",
     "output_type": "stream",
     "text": [
      "K1 = 88; K2 = 430\n"
     ]
    },
    {
     "data": {
      "image/png": "[encoded data removed]",
      "text/plain": [
       "<Figure size 864x504 with 1 Axes>"
      ]
     },
     "metadata": {
      "needs_background": "light"
     },
     "output_type": "display_data"
    }
   ],
   "source": [
    "k_list = range(5, 500, 1)\n",
    "rel_err1 = []\n",
    "rel_err2 = []\n",
    "relative_error_threshold = 0.15\n",
    "\n",
    "for k in tqdm(k_list):\n",
    "    image1_compressed, s = compress(image1, k)\n",
    "    image2_compressed, s = compress(image2, k)\n",
    "\n",
    "    relative_error_1 = np.linalg.norm(\n",
    "        image1_compressed.astype(np.float64) - image1.astype(np.float64)\n",
    "    )\n",
    "    relative_error_1 /= np.linalg.norm(image1.astype(np.float64))\n",
    "\n",
    "    relative_error_2 = np.linalg.norm(\n",
    "        image2_compressed.astype(np.float64) - image2.astype(np.float64)\n",
    "    )\n",
    "    relative_error_2 /= np.linalg.norm(image2.astype(np.float64))\n",
    "\n",
    "    rel_err1.append(relative_error_1)\n",
    "    rel_err2.append(relative_error_2)\n",
    "\n",
    "# find the indices\n",
    "idx1 = int(np.argwhere(np.diff(np.sign(np.array(rel_err1) - relative_error_threshold))).flatten())\n",
    "idx2 = int(np.argwhere(np.diff(np.sign(np.array(rel_err2) - relative_error_threshold))).flatten())\n",
    "print(f\"K1 = {k_list[idx1]}; K2 = {k_list[idx2]}\")\n",
    "\n",
    "plt.figure(figsize=(12, 7))\n",
    "\n",
    "plt.plot(k_list[idx1], rel_err1[idx1], \"ro\")\n",
    "plt.plot(k_list[idx2], rel_err2[idx2], \"ro\")\n",
    "plt.title(\"Rel err for 2 pics\")\n",
    "plt.xlabel(\"Rank\")\n",
    "plt.ylabel(\"Rel error val\")\n",
    "\n",
    "plt.plot(k_list, rel_err1, label=\"Image 1\")\n",
    "plt.plot(k_list, rel_err2, label=\"Image 2\")\n",
    "plt.plot(\n",
    "    k_list,\n",
    "    [relative_error_threshold] * len(k_list),\n",
    "    \":\",\n",
    ")\n",
    "\n",
    "plt.legend()\n",
    "plt.show()"
   ]
  },
  {
   "cell_type": "code",
   "execution_count": null,
   "metadata": {},
   "outputs": [],
   "source": [
    "image1_compressed, s = compress(image1, <find the value>)\n",
    "image2_compressed, s = compress(image2, <find the value>)\n",
    "\n",
    "plt.figure(figsize=(18,6))\n",
    "\n",
    "plt.subplot(1,2,1)\n",
    "plt.imshow(Image.fromarray(image1_compressed, \"RGB\"))\n",
    "plt.xticks(())\n",
    "plt.yticks(())\n",
    "\n",
    "plt.subplot(1,2,2)\n",
    "plt.imshow(Image.fromarray(image2_compressed, \"RGB\"))\n",
    "plt.xticks(())\n",
    "plt.yticks(())\n",
    "plt.show()"
   ]
  }
 ],
 "metadata": {
  "kernelspec": {
   "display_name": "Python 3 (ipykernel)",
   "language": "python",
   "name": "python3"
  },
  "language_info": {
   "codemirror_mode": {
    "name": "ipython",
    "version": 3
   },
   "file_extension": ".py",
   "mimetype": "text/x-python",
   "name": "python",
   "nbconvert_exporter": "python",
   "pygments_lexer": "ipython3",
   "version": "3.8.12"
  }
 },
 "nbformat": 4,
 "nbformat_minor": 2
}
